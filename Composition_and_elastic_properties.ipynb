{
  "nbformat": 4,
  "nbformat_minor": 0,
  "metadata": {
    "colab": {
      "provenance": []
    },
    "kernelspec": {
      "name": "python3",
      "display_name": "Python 3"
    },
    "language_info": {
      "name": "python"
    }
  },
  "cells": [
    {
      "cell_type": "code",
      "execution_count": 1,
      "metadata": {
        "id": "2qzi7eEe_AbA"
      },
      "outputs": [],
      "source": [
        "import numpy as np"
      ]
    },
    {
      "cell_type": "code",
      "source": [
        "Circle_A=0.38\n",
        "Circle_B=0.56\n",
        "Circle_C=0.06\n",
        "\n",
        "Triangle_A=0.15\n",
        "Triangle_B=0.20\n",
        "Triangle_C=0.65"
      ],
      "metadata": {
        "id": "qoH-cZbZ_Mp6"
      },
      "execution_count": 2,
      "outputs": []
    },
    {
      "cell_type": "code",
      "source": [
        "print(Circle_A+Circle_B+Circle_C)\n",
        "print(Triangle_A+Triangle_B+Triangle_C)"
      ],
      "metadata": {
        "colab": {
          "base_uri": "https://localhost:8080/"
        },
        "id": "aU6n0suW_UyH",
        "outputId": "694f756a-0aba-42dd-aa9f-9286006541b5"
      },
      "execution_count": 3,
      "outputs": [
        {
          "output_type": "stream",
          "name": "stdout",
          "text": [
            "1.0\n",
            "1.0\n"
          ]
        }
      ]
    },
    {
      "cell_type": "code",
      "source": [
        "Triangle_Density=2.53\n",
        "Circle_Density=2.27"
      ],
      "metadata": {
        "id": "qFzcN8Sa_fB7"
      },
      "execution_count": 4,
      "outputs": []
    },
    {
      "cell_type": "code",
      "source": [
        "Quartz_Density=2.648\n",
        "Calcite_Density=2.71\n",
        "Kerogen_Density=1.650"
      ],
      "metadata": {
        "id": "TEzh4_K2_hxy"
      },
      "execution_count": 6,
      "outputs": []
    },
    {
      "cell_type": "code",
      "source": [
        "Circle=np.array([Circle_A,Circle_B,Circle_C])\n",
        "Triangle=np.array([Triangle_A,Triangle_B,Triangle_C])"
      ],
      "metadata": {
        "id": "KEnnnVNZ_rVL"
      },
      "execution_count": 7,
      "outputs": []
    },
    {
      "cell_type": "code",
      "source": [
        "Density_CKQ=np.array([Calcite_Density,Kerogen_Density,Quartz_Density])\n",
        "Density_CQK=np.array([Calcite_Density,Quartz_Density,Kerogen_Density])\n",
        "Density_KCQ=np.array([Kerogen_Density,Calcite_Density,Quartz_Density])\n",
        "Density_KQC=np.array([Kerogen_Density,Quartz_Density,Calcite_Density])\n",
        "Density_QCK=np.array([Quartz_Density,Calcite_Density,Kerogen_Density])\n",
        "Density_QKC=np.array([Quartz_Density,Kerogen_Density,Calcite_Density])"
      ],
      "metadata": {
        "id": "4rMsyps__1tD"
      },
      "execution_count": 8,
      "outputs": []
    },
    {
      "cell_type": "code",
      "source": [
        "print ('CKQ',np.sqrt(((Density_CKQ*Circle).cumsum()[2]-Circle_Density)**2\n",
        "       +((Density_CKQ*Triangle).cumsum()[2]-Triangle_Density)**2))\n",
        "print ('CQK',np.sqrt(((Density_CQK*Circle).cumsum()[2]-Circle_Density)**2\n",
        "       +((Density_CQK*Triangle).cumsum()[2]-Triangle_Density)**2))\n",
        "print ('KCQ',np.sqrt(((Density_KCQ*Circle).cumsum()[2]-Circle_Density)**2\n",
        "       +((Density_KCQ*Triangle).cumsum()[2]-Triangle_Density)**2))\n",
        "print ('KQC',np.sqrt(((Density_KQC*Circle).cumsum()[2]-Circle_Density)**2\n",
        "       +((Density_KQC*Triangle).cumsum()[2]-Triangle_Density)**2))\n",
        "print ('QCK',np.sqrt(((Density_QCK*Circle).cumsum()[2]-Circle_Density)**2\n",
        "       +((Density_QCK*Triangle).cumsum()[2]-Triangle_Density)**2))\n",
        "print ('QKC',np.sqrt(((Density_QKC*Circle).cumsum()[2]-Circle_Density)**2\n",
        "       +((Density_QKC*Triangle).cumsum()[2]-Triangle_Density)**2))"
      ],
      "metadata": {
        "colab": {
          "base_uri": "https://localhost:8080/"
        },
        "id": "-7oz0YQs_8Ue",
        "outputId": "178b5c48-9fa9-4e15-fb17-f377293641ed"
      },
      "execution_count": 9,
      "outputs": [
        {
          "output_type": "stream",
          "name": "stdout",
          "text": [
            "CKQ 0.17313830425414228\n",
            "CQK 0.6233804475599153\n",
            "KCQ 0.03864453907086993\n",
            "KQC 0.008950441329901443\n",
            "QCK 0.6270015594876934\n",
            "QKC 0.18191029547554488\n"
          ]
        }
      ]
    },
    {
      "cell_type": "code",
      "source": [
        "Circle_Pvel=5380.0\n",
        "Circle_Svel=3510.0\n",
        "Triangle_Pvel=6010.0\n",
        "Triangle_Svel=3320.0"
      ],
      "metadata": {
        "id": "fg2Oa5PxAH8R"
      },
      "execution_count": 10,
      "outputs": []
    },
    {
      "cell_type": "code",
      "source": [
        "G_Circle=Circle_Density*1000.0*Circle_Svel**2\n",
        "print(\"Circle Shear Modulus\",G_Circle/1000000000.0,\"Gpa\")\n",
        "K_Circle=Circle_Density*1000.0*Circle_Pvel**2-4/3*G_Circle\n",
        "print(\"Circle Bulk Modulus\",K_Circle/1000000000.0,\"Gpa\")"
      ],
      "metadata": {
        "colab": {
          "base_uri": "https://localhost:8080/"
        },
        "id": "nNCOeR6nAPjb",
        "outputId": "4307bef1-fac5-4273-c507-e1e12a536368"
      },
      "execution_count": 11,
      "outputs": [
        {
          "output_type": "stream",
          "name": "stdout",
          "text": [
            "Circle Shear Modulus 27.966627 Gpa\n",
            "Circle Bulk Modulus 28.414952 Gpa\n"
          ]
        }
      ]
    },
    {
      "cell_type": "code",
      "source": [
        "G_Triangle=Triangle_Density*1000.0*Triangle_Svel**2\n",
        "print(\"Triangle Shear modulus:\", G_Triangle/1000000000.0,\"Gpa\")\n",
        "K_Triangle=Triangle_Density*1000.0*Triangle_Pvel**2-(4/3*G_Triangle)\n",
        "print(\"Triangle Bulk Modulus\",K_Triangle/1000000000.0,\"Gpa\")"
      ],
      "metadata": {
        "colab": {
          "base_uri": "https://localhost:8080/"
        },
        "id": "Of0ae4vYAWaF",
        "outputId": "b4f902e3-c0d6-4c8a-9eeb-2604ebde558c"
      },
      "execution_count": 12,
      "outputs": [
        {
          "output_type": "stream",
          "name": "stdout",
          "text": [
            "Triangle Shear modulus: 27.886672 Gpa\n",
            "Triangle Bulk Modulus 54.20162366666667 Gpa\n"
          ]
        }
      ]
    },
    {
      "cell_type": "code",
      "source": [
        "K=np.array([8.5,37,70.2])\n",
        "G=np.array([4.5,44,29])"
      ],
      "metadata": {
        "id": "Mx2NfcRaAdvz"
      },
      "execution_count": 13,
      "outputs": []
    },
    {
      "cell_type": "code",
      "source": [
        "print(\"Shear and Bulk Modulus in the Iso-Strain Case\")\n",
        "print((Circle*K).cumsum()[2])\n",
        "print((Circle*G).cumsum()[2])\n",
        "print(\"Shear and Bulk Modulus in the Iso-Stress Case\")\n",
        "print(1/(Circle*1/K).cumsum()[2])\n",
        "print(1/(Circle*1/G).cumsum()[2])"
      ],
      "metadata": {
        "colab": {
          "base_uri": "https://localhost:8080/"
        },
        "id": "COGb40OHAn2K",
        "outputId": "d97b1bcc-45e8-4b35-9570-72095fda36f3"
      },
      "execution_count": 14,
      "outputs": [
        {
          "output_type": "stream",
          "name": "stdout",
          "text": [
            "Shear and Bulk Modulus in the Iso-Strain Case\n",
            "28.162000000000003\n",
            "28.09\n",
            "Shear and Bulk Modulus in the Iso-Stress Case\n",
            "16.475626737829042\n",
            "10.076512705320791\n"
          ]
        }
      ]
    },
    {
      "cell_type": "code",
      "source": [
        "print(\"Shear and Bulk Modulus in the Iso-Strain Case\")\n",
        "print((Triangle*K).cumsum()[2])\n",
        "print((Triangle*G).cumsum()[2])\n",
        "print(\"Shear and Bulk Modulus in the Iso-Stress Case\")\n",
        "print(1/(Triangle*1/K).cumsum()[2])\n",
        "print(1/(Triangle*1/G).cumsum()[2])"
      ],
      "metadata": {
        "colab": {
          "base_uri": "https://localhost:8080/"
        },
        "id": "gHGRq34VAyHU",
        "outputId": "ceb5724b-72bd-4eba-af85-59fdded46b09"
      },
      "execution_count": 15,
      "outputs": [
        {
          "output_type": "stream",
          "name": "stdout",
          "text": [
            "Shear and Bulk Modulus in the Iso-Strain Case\n",
            "54.30500000000001\n",
            "28.325000000000003\n",
            "Shear and Bulk Modulus in the Iso-Stress Case\n",
            "30.94851936218679\n",
            "16.58578856152513\n"
          ]
        }
      ]
    },
    {
      "cell_type": "code",
      "source": [],
      "metadata": {
        "id": "uftrBtvFA4pb"
      },
      "execution_count": null,
      "outputs": []
    }
  ]
}