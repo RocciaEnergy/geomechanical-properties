{
  "nbformat": 4,
  "nbformat_minor": 0,
  "metadata": {
    "colab": {
      "provenance": []
    },
    "kernelspec": {
      "name": "python3",
      "display_name": "Python 3"
    },
    "language_info": {
      "name": "python"
    }
  },
  "cells": [
    {
      "cell_type": "code",
      "execution_count": 1,
      "metadata": {
        "colab": {
          "base_uri": "https://localhost:8080/",
          "height": 763
        },
        "id": "tjD9w5YoCXSd",
        "outputId": "507e10d3-9429-42a8-dddb-3f7f9a257a5a"
      },
      "outputs": [
        {
          "output_type": "display_data",
          "data": {
            "text/plain": [
              "<Figure size 432x288 with 1 Axes>"
            ],
            "image/png": "[encoded data removed]"
          },
          "metadata": {
            "needs_background": "light"
          }
        },
        {
          "output_type": "stream",
          "name": "stdout",
          "text": [
            "MI index for UCS: \n",
            " [0.14738175 0.43559428 0.69509839 0.46638416 1.64292132 0.5520777\n",
            " 0.14174873]\n"
          ]
        },
        {
          "output_type": "display_data",
          "data": {
            "text/plain": [
              "<Figure size 432x288 with 1 Axes>"
            ],
            "image/png": "[encoded data removed]"
          },
          "metadata": {
            "needs_background": "light"
          }
        },
        {
          "output_type": "stream",
          "name": "stdout",
          "text": [
            "MI index for E: \n",
            " [0.35652887 0.57014107 0.77475968 0.56488264 1.322069   0.41078031\n",
            " 0.        ]\n",
            "Train test shapes - UCS: \n",
            " (33, 4) (6, 4)\n",
            "Root Mean Square Error:\n",
            " 0.232\n",
            "Root Mean Square Error:\n",
            " 0.14\n"
          ]
        }
      ],
      "source": [
        "import math\n",
        "import numpy as np\n",
        "import pandas as pd\n",
        "import matplotlib.pyplot as plt\n",
        "\n",
        "from sklearn.preprocessing import LabelEncoder\n",
        "from sklearn.model_selection import train_test_split\n",
        "from sklearn.preprocessing import MinMaxScaler, StandardScaler\n",
        "from sklearn.feature_selection import mutual_info_classif, mutual_info_regression\n",
        "\n",
        "from sklearn.ensemble import AdaBoostRegressor\n",
        "from sklearn.model_selection import RepeatedKFold\n",
        "from sklearn.model_selection import cross_val_score\n",
        "\n",
        "# %% loading the data\n",
        "\n",
        "file_path = r\"geo.xlsx\"\n",
        "f = pd.read_excel(file_path)\n",
        "\n",
        "features = f.iloc[:,1:8]\n",
        "\n",
        "scaler = MinMaxScaler()\n",
        "scaled_features = scaler.fit_transform(features)\n",
        "\n",
        "# %% Targets in the data\n",
        "\n",
        "UCS = f.iloc[:,9]\n",
        "E = f.iloc[:, 10]\n",
        "\n",
        "# label_encoder = LabelEncoder()\n",
        "# y1 = label_encoder.fit_transform(pd.cut(f['UCS (MPa)2'], 4, retbins=True)[0])\n",
        "# y2 = label_encoder.fit_transform(pd.cut(f['Ed (GPa)2'], 3, retbins=True)[0])\n",
        "# mi_score = mutual_info_classif(x,f['y1'])\n",
        "\n",
        "# %% Feature selection based on Mutual Information (MI) - UCS\n",
        "\n",
        "mi_score_UCS = mutual_info_regression(scaled_features, UCS)\n",
        "\n",
        "p = ['Density', 'Is', '$\\sigma_{t}$', '$V_{p}$', '$V_{s}$', '$V_{d}$', 'c']\n",
        "k = mi_score_UCS\n",
        "\n",
        "plt.bar(p,k)\n",
        "plt.xticks(p)\n",
        "plt.title('MI for calculating UCS')\n",
        "plt.show()\n",
        "\n",
        "print('MI index for UCS: \\n', mi_score_UCS) \n",
        "\n",
        "# %% Feature selection based on Mutual Information (MI) - E\n",
        "\n",
        "mi_score_E = mutual_info_regression(scaled_features, E)\n",
        "\n",
        "p = ['Density', 'Is', '$\\sigma_{t}$', '$V_{p}$', '$V_{s}$', '$V_{d}$', 'c']\n",
        "k = mi_score_E\n",
        "\n",
        "plt.bar(p,k)\n",
        "plt.xticks(p)\n",
        "plt.title('MI for calculating E')\n",
        "plt.show()\n",
        "\n",
        "print('MI index for E: \\n', mi_score_E) \n",
        "\n",
        "#%% UCS and E prediction based on the used feature selection strategy\n",
        "\n",
        "UCS_dataset = f[['VS (m/s)', 'σt (MPa)', 'νd', 'UCS (MPa)2']]\n",
        "E_dataset = f[['VS (m/s)', 'σt (MPa)', 'VP (m/s)', 'Is(50)', 'Ed (GPa)2']]\n",
        "\n",
        "# %% train test split 15 percent\n",
        "train_UCS, test_UCS = train_test_split(UCS_dataset, test_size = 0.15)\n",
        "train_E, test_E = train_test_split(E_dataset, test_size = 0.15)\n",
        "\n",
        "scale_train = MinMaxScaler()\n",
        "\n",
        "# scaling train\n",
        "UCS_train = scale_train.fit_transform(train_UCS)\n",
        "E_train = scale_train.fit_transform(train_E)\n",
        "\n",
        "# scaling test\n",
        "UCS_test = scale_train.fit_transform(test_UCS)\n",
        "E_test = scale_train.fit_transform(test_E)\n",
        "\n",
        "print('Train test shapes - UCS: \\n', UCS_train.shape, UCS_test.shape)\n",
        "\n",
        "# %% Build The Model - UCS\n",
        "\n",
        "model_UCS = AdaBoostRegressor()\n",
        "# fit the model on the whole dataset\n",
        "model_UCS.fit(UCS_train[:, :2], UCS_train[:, 3])\n",
        "# make a single prediction\n",
        "UCS_prediction = model_UCS.predict(UCS_test[:, :2])\n",
        "\n",
        "# Root Mean Squared Error - UCS\n",
        "MSE_UCS = np.square(np.subtract(UCS_test[:, 3], UCS_prediction)).mean() \n",
        "RMSE_UCS = math.sqrt(MSE_UCS)\n",
        "print(\"Root Mean Square Error:\\n\", round(RMSE_UCS, 3))\n",
        "\n",
        "# %% Build The Model - E\n",
        "\n",
        "model_E = AdaBoostRegressor()\n",
        "# fit the model on the whole dataset\n",
        "model_E.fit(E_train[:, :3], E_train[:, 4])\n",
        "# make a single prediction\n",
        "E_prediction = model_E.predict(E_test[:, :3])\n",
        "\n",
        "# Root Mean Squared Error - E\n",
        "MSE_E = np.square(np.subtract(E_test[:, 4], E_prediction)).mean() \n",
        "RMSE_E = math.sqrt(MSE_E)\n",
        "print(\"Root Mean Square Error:\\n\", round(RMSE_E, 3))"
      ]
    }
  ]
}